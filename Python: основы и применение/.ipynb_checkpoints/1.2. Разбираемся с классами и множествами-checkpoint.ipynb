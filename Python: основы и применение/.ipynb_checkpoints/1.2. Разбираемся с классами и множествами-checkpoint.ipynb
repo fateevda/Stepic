{
 "cells": [
  {
   "cell_type": "code",
   "execution_count": 96,
   "metadata": {
    "scrolled": true
   },
   "outputs": [],
   "source": [
    "f = open('text.txt', 'r')\n",
    "\n",
    "q = f.readlines()\n",
    "a=[]\n",
    "for i in q:\n",
    "    a.append(i[:-1])\n",
    "\n",
    "n = int(a[0])\n",
    "q = int(a[1+n])\n",
    "mas = a[1:1+n]\n",
    "mas2 = a[2+n:]"
   ]
  },
  {
   "cell_type": "code",
   "execution_count": 97,
   "metadata": {},
   "outputs": [
    {
     "name": "stdout",
     "output_type": "stream",
     "text": [
      "Yes\n",
      "Yes\n",
      "Yes\n",
      "Yes\n",
      "Yes\n",
      "Yes\n",
      "No\n",
      "No\n",
      "No\n",
      "No\n",
      "Yes\n",
      "No\n",
      "No\n",
      "Yes\n",
      "No\n",
      "Yes\n",
      "Yes\n",
      "Yes\n",
      "No\n",
      "Yes\n",
      "No\n",
      "No\n",
      "Yes\n",
      "Yes\n",
      "No\n",
      "No\n",
      "No\n",
      "Yes\n",
      "Yes\n",
      "No\n",
      "Yes\n",
      "No\n",
      "No\n",
      "No\n",
      "Yes\n",
      "Yes\n",
      "Yes\n",
      "No\n"
     ]
    }
   ],
   "source": [
    "#n = int(input())\n",
    "st = []\n",
    "d = dict()\n",
    "for i in range(n):\n",
    "    st.append(mas[i].split())\n",
    "    for a in st:\n",
    "        if (len(a)==1):\n",
    "            d[a[0]] = [a[0]]\n",
    "        else:\n",
    "            d[a[0]] = [a[0]]#B\n",
    "\n",
    "            for i in a[2:len(a)]:\n",
    "                if (i in d.keys()):\n",
    "                    if (len(d[i])==0):\n",
    "                        d[i] = [i]# A:A\n",
    "                else:\n",
    "                    d[i] = [i]\n",
    "\n",
    "            d[a[0]].extend(a[2:len(a)])#B:[B,A]\n",
    "            for i in d[a[0]]:# для этого массива проходим по всем элементам и если нужно, то добавим елемент\n",
    "                for j in d[i]:\n",
    "                    if j not in d[a[0]]:\n",
    "                        d[a[0]].extend(d[j])\n",
    "\n",
    "#q = int(input())\n",
    "\n",
    "for i in range(q):\n",
    "    b = mas2[i].split()\n",
    "    if ((b[0] in d.keys()) and (b[1] in d.keys())):\n",
    "        if b[0] in d[b[1]]:\n",
    "            print('Yes')\n",
    "        else:\n",
    "            print('No')\n",
    "    else:\n",
    "        print('No')"
   ]
  },
  {
   "cell_type": "code",
   "execution_count": 100,
   "metadata": {},
   "outputs": [
    {
     "data": {
      "text/plain": [
       "['classA : classB classC classD classG classH',\n",
       " 'classB : classC classE classG classH classK classL',\n",
       " 'classC : classE classD classH classK classL',\n",
       " 'classE : classD classF classK classL',\n",
       " 'classD : classG classH',\n",
       " 'classF : classK',\n",
       " 'classG : classF',\n",
       " 'classH : classL',\n",
       " 'classK : classH classL',\n",
       " 'classL']"
      ]
     },
     "execution_count": 100,
     "metadata": {},
     "output_type": "execute_result"
    }
   ],
   "source": [
    "mas"
   ]
  },
  {
   "cell_type": "code",
   "execution_count": 99,
   "metadata": {},
   "outputs": [
    {
     "data": {
      "text/plain": [
       "{'classA': ['classA',\n",
       "  'classB',\n",
       "  'classC',\n",
       "  'classD',\n",
       "  'classG',\n",
       "  'classH',\n",
       "  'classE',\n",
       "  'classD',\n",
       "  'classF',\n",
       "  'classK',\n",
       "  'classL',\n",
       "  'classG',\n",
       "  'classF',\n",
       "  'classK',\n",
       "  'classH',\n",
       "  'classL'],\n",
       " 'classB': ['classB',\n",
       "  'classC',\n",
       "  'classE',\n",
       "  'classG',\n",
       "  'classH',\n",
       "  'classK',\n",
       "  'classL',\n",
       "  'classD',\n",
       "  'classG',\n",
       "  'classH',\n",
       "  'classF',\n",
       "  'classK',\n",
       "  'classL'],\n",
       " 'classC': ['classC',\n",
       "  'classE',\n",
       "  'classD',\n",
       "  'classH',\n",
       "  'classK',\n",
       "  'classL',\n",
       "  'classF',\n",
       "  'classK',\n",
       "  'classG',\n",
       "  'classF',\n",
       "  'classK'],\n",
       " 'classD': ['classD', 'classG', 'classH', 'classF', 'classK', 'classL'],\n",
       " 'classG': ['classG', 'classF', 'classK', 'classH', 'classL'],\n",
       " 'classH': ['classH', 'classL'],\n",
       " 'classE': ['classE',\n",
       "  'classD',\n",
       "  'classF',\n",
       "  'classK',\n",
       "  'classL',\n",
       "  'classG',\n",
       "  'classF',\n",
       "  'classK',\n",
       "  'classH',\n",
       "  'classL'],\n",
       " 'classK': ['classK', 'classH', 'classL'],\n",
       " 'classL': ['classL'],\n",
       " 'classF': ['classF', 'classK', 'classH', 'classL']}"
      ]
     },
     "execution_count": 99,
     "metadata": {},
     "output_type": "execute_result"
    }
   ],
   "source": [
    "d"
   ]
  },
  {
   "cell_type": "code",
   "execution_count": 41,
   "metadata": {},
   "outputs": [
    {
     "name": "stdout",
     "output_type": "stream",
     "text": [
      "1\n",
      "1 1\n",
      "No\n"
     ]
    }
   ],
   "source": [
    "q = int(input())\n",
    "\n",
    "for i in range(q):\n",
    "    b = input().split()\n",
    "    if ((b[0] in d.keys()) and (b[1] in d.keys())):\n",
    "        if b[0] in d[b[1]]:\n",
    "            print('Yes')\n",
    "        else:\n",
    "            print('No')\n",
    "    else:\n",
    "        print('No')"
   ]
  },
  {
   "cell_type": "code",
   "execution_count": null,
   "metadata": {},
   "outputs": [],
   "source": [
    "'G : F',  # сначала отнаследуем от F, потом его объявим, корректный алгоритм все равно правильно обойдёт граф, независимо что было раньше: наследование или объявление\n",
    "    'A',\n",
    "    'B : A',\n",
    "    'C : A',\n",
    "    'D : B C',\n",
    "    'E : D',\n",
    "    'F : D',\n",
    "    # а теперь другая ветка наследования\n",
    "    'X',\n",
    "    'Y : X A',  # свяжем две ветки наследования для проверки, обошла ли рекурсия предков Z и предков Y в поисках A\n",
    "    'Z : X',\n",
    "    'V : Z Y',\n",
    "    'W : V',"
   ]
  },
  {
   "cell_type": "code",
   "execution_count": 42,
   "metadata": {},
   "outputs": [
    {
     "data": {
      "text/plain": [
       "{'G': ['G', 'F', 'D', 'B', 'C', 'A'],\n",
       " 'F': ['F', 'D', 'B', 'A', 'C', 'A'],\n",
       " 'A': ['A'],\n",
       " 'B': ['B', 'A'],\n",
       " 'C': ['C', 'A'],\n",
       " 'D': ['D', 'B', 'C', 'A'],\n",
       " 'E': ['E', 'D', 'B', 'A', 'C', 'A'],\n",
       " 'X': ['X'],\n",
       " 'Y': ['Y', 'X', 'A'],\n",
       " 'Z': ['Z', 'X'],\n",
       " 'V': ['V', 'Z', 'Y', 'X', 'A'],\n",
       " 'W': ['W', 'V', 'Z', 'X', 'Y', 'X', 'A']}"
      ]
     },
     "execution_count": 42,
     "metadata": {},
     "output_type": "execute_result"
    }
   ],
   "source": [
    "d"
   ]
  },
  {
   "cell_type": "code",
   "execution_count": 55,
   "metadata": {},
   "outputs": [
    {
     "data": {
      "text/plain": [
       "['A', 'B']"
      ]
     },
     "execution_count": 55,
     "metadata": {},
     "output_type": "execute_result"
    }
   ],
   "source": [
    "str[-1][2:len(str[-1])]"
   ]
  },
  {
   "cell_type": "code",
   "execution_count": null,
   "metadata": {},
   "outputs": [],
   "source": [
    "for i in str:\n",
    "    i"
   ]
  },
  {
   "cell_type": "code",
   "execution_count": 8,
   "metadata": {},
   "outputs": [
    {
     "data": {
      "text/plain": [
       "'B'"
      ]
     },
     "execution_count": 8,
     "metadata": {},
     "output_type": "execute_result"
    }
   ],
   "source": [
    "str[1][0]"
   ]
  },
  {
   "cell_type": "code",
   "execution_count": 6,
   "metadata": {},
   "outputs": [],
   "source": [
    "d1 = dict(short='dict', long='dictionary')"
   ]
  },
  {
   "cell_type": "code",
   "execution_count": 29,
   "metadata": {},
   "outputs": [],
   "source": [
    "d = {'B':  'A'}"
   ]
  },
  {
   "cell_type": "code",
   "execution_count": 30,
   "metadata": {},
   "outputs": [
    {
     "data": {
      "text/plain": [
       "{'B': 'A'}"
      ]
     },
     "execution_count": 30,
     "metadata": {},
     "output_type": "execute_result"
    }
   ],
   "source": [
    "d"
   ]
  },
  {
   "cell_type": "code",
   "execution_count": 31,
   "metadata": {},
   "outputs": [
    {
     "name": "stdout",
     "output_type": "stream",
     "text": [
      "AAA : BBB CCC\n"
     ]
    }
   ],
   "source": [
    "a = input()"
   ]
  },
  {
   "cell_type": "code",
   "execution_count": 34,
   "metadata": {},
   "outputs": [
    {
     "data": {
      "text/plain": [
       "['AAA', ':', 'BBB', 'CCC']"
      ]
     },
     "execution_count": 34,
     "metadata": {},
     "output_type": "execute_result"
    }
   ],
   "source": [
    "a.split()"
   ]
  },
  {
   "cell_type": "code",
   "execution_count": null,
   "metadata": {},
   "outputs": [],
   "source": []
  },
  {
   "cell_type": "code",
   "execution_count": null,
   "metadata": {},
   "outputs": [],
   "source": []
  },
  {
   "cell_type": "code",
   "execution_count": null,
   "metadata": {},
   "outputs": [],
   "source": []
  },
  {
   "cell_type": "code",
   "execution_count": 81,
   "metadata": {},
   "outputs": [],
   "source": [
    "f = open('text.txt', 'r')\n",
    "\n",
    "q = f.readlines()\n",
    "a=[]\n",
    "for i in q:\n",
    "    a.append(i[:-1])\n",
    "\n",
    "n = int(a[0])\n",
    "q = int(a[1+n])\n",
    "mas = a[1:1+n]\n",
    "mas2 = a[1+n:]\n",
    "\n",
    "mas2"
   ]
  },
  {
   "cell_type": "code",
   "execution_count": null,
   "metadata": {},
   "outputs": [],
   "source": []
  },
  {
   "cell_type": "code",
   "execution_count": 55,
   "metadata": {},
   "outputs": [
    {
     "name": "stdout",
     "output_type": "stream",
     "text": [
      "10\n",
      "\n",
      "classA : classB classC classD classG classH\n",
      "\n",
      "classB : classC classE classG classH classK classL\n",
      "\n",
      "classC : classE classD classH classK classL\n",
      "\n",
      "classE : classD classF classK classL\n",
      "\n",
      "classD : classG classH\n",
      "\n",
      "classF : classK\n",
      "\n",
      "classG : classF\n",
      "\n",
      "classH : classL\n",
      "\n",
      "classK : classH classL\n",
      "\n",
      "classL\n",
      "\n",
      "38\n",
      "\n",
      "classK classD\n",
      "\n",
      "classD classA\n",
      "\n",
      "classG classD\n",
      "\n",
      "classH classA\n",
      "\n",
      "classE classE\n",
      "\n",
      "classH classG\n",
      "\n",
      "classE classL\n",
      "\n",
      "classB classD\n",
      "\n",
      "classD classL\n",
      "\n",
      "classD classG\n",
      "\n",
      "classD classE\n",
      "\n",
      "classA classF\n",
      "\n",
      "classA classC\n",
      "\n",
      "classK classA\n",
      "\n",
      "classA classH\n",
      "\n",
      "classK classD\n",
      "\n",
      "classH classB\n",
      "\n",
      "classK classB\n",
      "\n",
      "classD classL\n",
      "\n",
      "classG classG\n",
      "\n",
      "classA classH\n",
      "\n",
      "classK classL\n",
      "\n",
      "classG classE\n",
      "\n",
      "classB classA\n",
      "\n",
      "classC classK\n",
      "\n",
      "classK classL\n",
      "\n",
      "classC classL\n",
      "\n",
      "classG classC\n",
      "\n",
      "classD classD\n",
      "\n",
      "classC classG\n",
      "\n",
      "classE classA\n",
      "\n",
      "classF classK\n",
      "\n",
      "classB classG\n",
      "\n",
      "classH classL\n",
      "\n",
      "classL classF\n",
      "\n",
      "classH classG\n",
      "\n",
      "classD classA\n",
      "\n",
      "classH classL\n",
      "\n"
     ]
    }
   ],
   "source": [
    "for line in f:\n",
    "    print(line)"
   ]
  },
  {
   "cell_type": "code",
   "execution_count": null,
   "metadata": {},
   "outputs": [],
   "source": []
  },
  {
   "cell_type": "code",
   "execution_count": 102,
   "metadata": {},
   "outputs": [],
   "source": [
    "d = list()"
   ]
  },
  {
   "cell_type": "code",
   "execution_count": null,
   "metadata": {},
   "outputs": [],
   "source": [
    "d."
   ]
  },
  {
   "cell_type": "code",
   "execution_count": 116,
   "metadata": {},
   "outputs": [],
   "source": [
    "class ExtendedStack(list):\n",
    "    def sum(self):\n",
    "        top1 = self.pop()\n",
    "        top2 = self.pop()\n",
    "        self.append(top1+top2)\n",
    "        # операция сложения\n",
    "\n",
    "    def sub(self):\n",
    "        top1 = self.pop()\n",
    "        top2 = self.pop()\n",
    "        self.append(top1-top2)\n",
    "        # операция вычитания\n",
    "\n",
    "    def mul(self):\n",
    "        top1 = self.pop()\n",
    "        top2 = self.pop()\n",
    "        self.append(top1*top2)\n",
    "        # операция умножения\n",
    "\n",
    "    def div(self):\n",
    "        top1 = self.pop()\n",
    "        top2 = self.pop()\n",
    "        self.append(top1//top2)\n",
    "        # операция целочисленного деления"
   ]
  },
  {
   "cell_type": "code",
   "execution_count": 104,
   "metadata": {},
   "outputs": [],
   "source": [
    "a = ExtendedStack()"
   ]
  },
  {
   "cell_type": "code",
   "execution_count": 105,
   "metadata": {},
   "outputs": [],
   "source": [
    "a.extend([1,2,3,4,5,6])"
   ]
  },
  {
   "cell_type": "code",
   "execution_count": 106,
   "metadata": {},
   "outputs": [
    {
     "data": {
      "text/plain": [
       "[1, 2, 3, 4, 5, 6]"
      ]
     },
     "execution_count": 106,
     "metadata": {},
     "output_type": "execute_result"
    }
   ],
   "source": [
    "a"
   ]
  },
  {
   "cell_type": "code",
   "execution_count": 107,
   "metadata": {},
   "outputs": [],
   "source": [
    "a.sum()"
   ]
  },
  {
   "cell_type": "code",
   "execution_count": 108,
   "metadata": {},
   "outputs": [
    {
     "data": {
      "text/plain": [
       "[1, 2, 3, 4, 11]"
      ]
     },
     "execution_count": 108,
     "metadata": {},
     "output_type": "execute_result"
    }
   ],
   "source": [
    "a"
   ]
  },
  {
   "cell_type": "code",
   "execution_count": 113,
   "metadata": {},
   "outputs": [],
   "source": [
    "def test():\n",
    "    ex_stack = ExtendedStack([1, 2, 3, 4, -3, 3, 5, 10])\n",
    "    ex_stack.div()\n",
    "    assert ex_stack.pop() == 2\n",
    "    ex_stack.sub()\n",
    "    assert ex_stack.pop() == 6\n",
    "    ex_stack.sum()\n",
    "    assert ex_stack.pop() == 7\n",
    "    ex_stack.mul()\n",
    "    assert ex_stack.pop() == 2\n",
    "    assert len(ex_stack) == 0"
   ]
  },
  {
   "cell_type": "code",
   "execution_count": 117,
   "metadata": {},
   "outputs": [],
   "source": [
    "test()"
   ]
  },
  {
   "cell_type": "code",
   "execution_count": null,
   "metadata": {},
   "outputs": [],
   "source": []
  },
  {
   "cell_type": "code",
   "execution_count": null,
   "metadata": {},
   "outputs": [],
   "source": []
  },
  {
   "cell_type": "code",
   "execution_count": 118,
   "metadata": {},
   "outputs": [],
   "source": [
    "import time\n",
    "\n",
    "class Loggable:\n",
    "    def log(self, msg):\n",
    "        print(str(time.ctime()) + \": \" + str(msg))"
   ]
  },
  {
   "cell_type": "code",
   "execution_count": 123,
   "metadata": {},
   "outputs": [],
   "source": [
    "x = Loggable()\n",
    "y = list()"
   ]
  },
  {
   "cell_type": "code",
   "execution_count": 122,
   "metadata": {},
   "outputs": [
    {
     "name": "stdout",
     "output_type": "stream",
     "text": [
      "Sun Jul 28 15:55:07 2019: 123\n"
     ]
    }
   ],
   "source": [
    "x.log(123)"
   ]
  },
  {
   "cell_type": "code",
   "execution_count": 136,
   "metadata": {},
   "outputs": [],
   "source": [
    "class LoggableList(list,Loggable):\n",
    "    def append(self, msg):\n",
    "        x = super(LoggableList, self).append(msg)\n",
    "        self.log(msg)"
   ]
  },
  {
   "cell_type": "code",
   "execution_count": 137,
   "metadata": {},
   "outputs": [],
   "source": [
    "a = LoggableList()"
   ]
  },
  {
   "cell_type": "code",
   "execution_count": 138,
   "metadata": {},
   "outputs": [
    {
     "data": {
      "text/plain": [
       "[1, 2, 3]"
      ]
     },
     "execution_count": 138,
     "metadata": {},
     "output_type": "execute_result"
    }
   ],
   "source": [
    "a.extend([1,2,3])\n",
    "a"
   ]
  },
  {
   "cell_type": "code",
   "execution_count": 139,
   "metadata": {},
   "outputs": [
    {
     "name": "stdout",
     "output_type": "stream",
     "text": [
      "Sun Jul 28 16:11:40 2019: 66\n"
     ]
    }
   ],
   "source": [
    "a.append('66')"
   ]
  },
  {
   "cell_type": "code",
   "execution_count": 140,
   "metadata": {},
   "outputs": [
    {
     "data": {
      "text/plain": [
       "[1, 2, 3, '66']"
      ]
     },
     "execution_count": 140,
     "metadata": {},
     "output_type": "execute_result"
    }
   ],
   "source": [
    "a"
   ]
  },
  {
   "cell_type": "code",
   "execution_count": 142,
   "metadata": {},
   "outputs": [
    {
     "data": {
      "text/plain": [
       "[ZeroDivisionError, ArithmeticError, Exception, BaseException, object]"
      ]
     },
     "execution_count": 142,
     "metadata": {},
     "output_type": "execute_result"
    }
   ],
   "source": [
    "ZeroDivisionError.mro()"
   ]
  },
  {
   "cell_type": "code",
   "execution_count": null,
   "metadata": {},
   "outputs": [],
   "source": []
  },
  {
   "cell_type": "code",
   "execution_count": null,
   "metadata": {},
   "outputs": [],
   "source": [
    "f = open('text2.txt', 'r')\n",
    "\n",
    "q = f.readlines()\n",
    "a=[]\n",
    "for i in q:\n",
    "    a.append(i[:-1])\n",
    "\n",
    "n = int(a[0])\n",
    "q = int(a[1+n])\n",
    "mas = a[1:1+n]\n",
    "mas2 = a[2+n:]"
   ]
  },
  {
   "cell_type": "code",
   "execution_count": 162,
   "metadata": {},
   "outputs": [
    {
     "name": "stdout",
     "output_type": "stream",
     "text": [
      "4\n",
      "ArithmeticError\n",
      "ZeroDivisionError : ArithmeticError\n",
      "OSError\n",
      "FileNotFoundError : OSError\n",
      "0\n"
     ]
    }
   ],
   "source": [
    "\n",
    "\n",
    "\n",
    "n = int(input())\n",
    "st = []\n",
    "d = dict()\n",
    "for i in range(n):\n",
    "    st.append(input().split())\n",
    "    for a in st:\n",
    "        if (len(a)==1):\n",
    "            d[a[0]] = [a[0]]\n",
    "        else:\n",
    "            d[a[0]] = [a[0]]#B\n",
    "\n",
    "            for i in a[2:len(a)]:\n",
    "                if (i in d.keys()):\n",
    "                    if (len(d[i])==0):\n",
    "                        d[i] = [i]# A:A\n",
    "                else:\n",
    "                    d[i] = [i]\n",
    "\n",
    "            d[a[0]].extend(a[2:len(a)])\n",
    "            for i in d[a[0]]:\n",
    "                for j in d[i]:\n",
    "                    if j not in d[a[0]]:\n",
    "                        d[a[0]].extend(d[j])\n",
    "\n",
    "q = int(input())\n",
    "\n",
    "for i in range(q):\n",
    "    b = input().split()\n",
    "for error_name in mas2:\n",
    "    if ('1' in d[error_name]):\n",
    "        print(error_name)\n",
    "    else:\n",
    "        for i in d:\n",
    "            if (error_name in d[i]):\n",
    "                d[i].append('1')"
   ]
  },
  {
   "cell_type": "code",
   "execution_count": 165,
   "metadata": {},
   "outputs": [
    {
     "data": {
      "text/plain": [
       "{'ArithmeticError': ['ArithmeticError'],\n",
       " 'ZeroDivisionError': ['ZeroDivisionError', 'ArithmeticError'],\n",
       " 'OSError': ['OSError'],\n",
       " 'FileNotFoundError': ['FileNotFoundError', 'OSError']}"
      ]
     },
     "execution_count": 165,
     "metadata": {},
     "output_type": "execute_result"
    }
   ],
   "source": [
    "d1 = d.copy()\n",
    "d1"
   ]
  },
  {
   "cell_type": "code",
   "execution_count": 166,
   "metadata": {},
   "outputs": [
    {
     "name": "stdout",
     "output_type": "stream",
     "text": [
      "4\n",
      "ZeroDivisionError\n",
      "OSError\n",
      "ArithmeticError\n",
      "FileNotFoundError\n",
      "FileNotFoundError\n"
     ]
    }
   ],
   "source": [
    "q = int(input())\n",
    "\n",
    "for j in range(q):\n",
    "    error_name = input()\n",
    "    if ('1' in d[error_name]):\n",
    "        print(error_name)\n",
    "    else:\n",
    "        for i in d:\n",
    "            if (error_name in d[i]):\n",
    "                d[i].append('1')"
   ]
  },
  {
   "cell_type": "code",
   "execution_count": 144,
   "metadata": {},
   "outputs": [
    {
     "data": {
      "text/plain": [
       "['ZeroDivisionError']"
      ]
     },
     "execution_count": 144,
     "metadata": {},
     "output_type": "execute_result"
    }
   ],
   "source": [
    "ZeroDivisionError\n",
    "OSError\n",
    "ArithmeticError\n",
    "FileNotFoundError"
   ]
  },
  {
   "cell_type": "code",
   "execution_count": 161,
   "metadata": {},
   "outputs": [
    {
     "data": {
      "text/plain": [
       "{'ArithmeticError': ['ArithmeticError', '1'],\n",
       " 'ZeroDivisionError': ['ZeroDivisionError', 'ArithmeticError', '1', '1'],\n",
       " 'OSError': ['OSError', '1'],\n",
       " 'FileNotFoundError': ['FileNotFoundError', 'OSError', '1']}"
      ]
     },
     "execution_count": 161,
     "metadata": {},
     "output_type": "execute_result"
    }
   ],
   "source": [
    "d"
   ]
  },
  {
   "cell_type": "code",
   "execution_count": 148,
   "metadata": {},
   "outputs": [
    {
     "data": {
      "text/plain": [
       "['ZeroDivisionError']"
      ]
     },
     "execution_count": 148,
     "metadata": {},
     "output_type": "execute_result"
    }
   ],
   "source": [
    "b"
   ]
  },
  {
   "cell_type": "code",
   "execution_count": 149,
   "metadata": {},
   "outputs": [
    {
     "data": {
      "text/plain": [
       "['ZeroDivisionError', 'OSError', 'ArithmeticError', 'FileNotFoundError']"
      ]
     },
     "execution_count": 149,
     "metadata": {},
     "output_type": "execute_result"
    }
   ],
   "source": [
    "mas2"
   ]
  },
  {
   "cell_type": "code",
   "execution_count": 156,
   "metadata": {},
   "outputs": [
    {
     "name": "stdout",
     "output_type": "stream",
     "text": [
      "FileNotFoundError\n"
     ]
    }
   ],
   "source": [
    "for error_name in mas2:\n",
    "    if ('1' in d[error_name]):\n",
    "        print(error_name)\n",
    "    else:\n",
    "        for i in d:\n",
    "            if (error_name in d[i]):\n",
    "                d[i].append('1')"
   ]
  },
  {
   "cell_type": "code",
   "execution_count": 152,
   "metadata": {},
   "outputs": [
    {
     "data": {
      "text/plain": [
       "False"
      ]
     },
     "execution_count": 152,
     "metadata": {},
     "output_type": "execute_result"
    }
   ],
   "source": [
    "'ZeroDivisionError' in d.items()"
   ]
  },
  {
   "cell_type": "code",
   "execution_count": 153,
   "metadata": {},
   "outputs": [
    {
     "data": {
      "text/plain": [
       "{'ArithmeticError': ['ArithmeticError'],\n",
       " 'ZeroDivisionError': ['ZeroDivisionError', 'ArithmeticError'],\n",
       " 'OSError': ['OSError'],\n",
       " 'FileNotFoundError': ['FileNotFoundError', 'OSError']}"
      ]
     },
     "execution_count": 153,
     "metadata": {},
     "output_type": "execute_result"
    }
   ],
   "source": [
    "d"
   ]
  },
  {
   "cell_type": "code",
   "execution_count": 155,
   "metadata": {},
   "outputs": [
    {
     "name": "stdout",
     "output_type": "stream",
     "text": [
      "ArithmeticError ['ArithmeticError']\n",
      "ZeroDivisionError ['ZeroDivisionError', 'ArithmeticError']\n",
      "OSError ['OSError']\n",
      "FileNotFoundError ['FileNotFoundError', 'OSError']\n"
     ]
    }
   ],
   "source": [
    "for i in d:\n",
    "    print(i,d[i])"
   ]
  },
  {
   "cell_type": "code",
   "execution_count": 13,
   "metadata": {},
   "outputs": [
    {
     "data": {
      "text/plain": [
       "[FileNotFoundError, OSError, Exception, BaseException, object]"
      ]
     },
     "execution_count": 13,
     "metadata": {},
     "output_type": "execute_result"
    }
   ],
   "source": [
    "FileNotFoundError.mro()"
   ]
  },
  {
   "cell_type": "code",
   "execution_count": null,
   "metadata": {},
   "outputs": [],
   "source": []
  },
  {
   "cell_type": "code",
   "execution_count": null,
   "metadata": {},
   "outputs": [],
   "source": []
  },
  {
   "cell_type": "code",
   "execution_count": 9,
   "metadata": {},
   "outputs": [
    {
     "name": "stdout",
     "output_type": "stream",
     "text": [
      "3\n",
      "c\n",
      "['c'] [['c']]\n",
      "a : b\n",
      "['c'] [['c'], ['a', ':', 'b']]\n",
      "['a', ':', 'b'] [['c'], ['a', ':', 'b']]\n",
      "b : c\n",
      "['c'] [['c'], ['a', ':', 'b'], ['b', ':', 'c']]\n",
      "['a', ':', 'b'] [['c'], ['a', ':', 'b'], ['b', ':', 'c']]\n",
      "['b', ':', 'c'] [['c'], ['a', ':', 'b'], ['b', ':', 'c']]\n",
      "0\n"
     ]
    }
   ],
   "source": [
    "n = int(input())\n",
    "st = []\n",
    "d = dict()\n",
    "for _ in range(n):\n",
    "    st.append(input().split())\n",
    "    for a in st:\n",
    "        print(a, st)\n",
    "        if (len(a)==1):\n",
    "            d[a[0]] = [a[0]]\n",
    "        else:\n",
    "            d[a[0]] = [a[0]]\n",
    "            for i in a[2:len(a)]:\n",
    "                if (i in d.keys()):\n",
    "                    if (len(d[i])==0):\n",
    "                        d[i] = [i]\n",
    "                else:\n",
    "                    d[i] = [i]\n",
    "            d[a[0]].extend(a[2:len(a)])\n",
    "            for i in d[a[0]]:\n",
    "                for j in d[i]:\n",
    "                    if j not in d[a[0]]:\n",
    "                        d[a[0]].extend(d[j])\n",
    "q = int(input())\n",
    "\n",
    "for j in range(q):\n",
    "    error_name = input()\n",
    "    if ('1' in d[error_name]):\n",
    "        print(error_name)\n",
    "    else:\n",
    "        for i in d:\n",
    "            if (error_name in d[i]):\n",
    "                d[i].append('1')"
   ]
  },
  {
   "cell_type": "code",
   "execution_count": 10,
   "metadata": {},
   "outputs": [
    {
     "name": "stdout",
     "output_type": "stream",
     "text": [
      "['c'] [['c'], ['a', ':', 'b'], ['b', ':', 'c']]\n",
      "['a', ':', 'b'] [['c'], ['a', ':', 'b'], ['b', ':', 'c']]\n",
      "['b', ':', 'c'] [['c'], ['a', ':', 'b'], ['b', ':', 'c']]\n"
     ]
    }
   ],
   "source": [
    "for a in st:\n",
    "    print(a, st)\n",
    "    if (len(a)==1):\n",
    "        d[a[0]] = [a[0]]\n",
    "    else:\n",
    "        d[a[0]] = [a[0]]\n",
    "        for i in a[2:len(a)]:\n",
    "            if (i in d.keys()):\n",
    "                if (len(d[i])==0):\n",
    "                    d[i] = [i]\n",
    "            else:\n",
    "                d[i] = [i]\n",
    "        d[a[0]].extend(a[2:len(a)])\n",
    "        for i in d[a[0]]:\n",
    "            for j in d[i]:\n",
    "                if j not in d[a[0]]:\n",
    "                    d[a[0]].extend(d[j])"
   ]
  },
  {
   "cell_type": "code",
   "execution_count": 11,
   "metadata": {},
   "outputs": [
    {
     "data": {
      "text/plain": [
       "{'c': ['c'], 'a': ['a', 'b', 'c'], 'b': ['b', 'c']}"
      ]
     },
     "execution_count": 11,
     "metadata": {},
     "output_type": "execute_result"
    }
   ],
   "source": [
    "d"
   ]
  },
  {
   "cell_type": "code",
   "execution_count": null,
   "metadata": {},
   "outputs": [],
   "source": []
  },
  {
   "cell_type": "code",
   "execution_count": null,
   "metadata": {},
   "outputs": [],
   "source": []
  },
  {
   "cell_type": "code",
   "execution_count": 40,
   "metadata": {},
   "outputs": [],
   "source": [
    "class NonPositiveError(Exception):\n",
    "    pass\n",
    "\n",
    "\n",
    "class PositiveList(list):\n",
    "    def append(self,x):\n",
    "        if (x > 0):\n",
    "            arg = super(PositiveList,self).append(x)\n",
    "        else:\n",
    "            raise NonPositiveError()\n",
    "\n",
    "    "
   ]
  },
  {
   "cell_type": "code",
   "execution_count": 41,
   "metadata": {},
   "outputs": [],
   "source": [
    "a = PositiveList()"
   ]
  },
  {
   "cell_type": "code",
   "execution_count": 42,
   "metadata": {},
   "outputs": [],
   "source": [
    "a.extend([1,2,3])"
   ]
  },
  {
   "cell_type": "code",
   "execution_count": 43,
   "metadata": {},
   "outputs": [],
   "source": [
    "a.append(4)"
   ]
  },
  {
   "cell_type": "code",
   "execution_count": 44,
   "metadata": {},
   "outputs": [
    {
     "data": {
      "text/plain": [
       "[1, 2, 3, 4]"
      ]
     },
     "execution_count": 44,
     "metadata": {},
     "output_type": "execute_result"
    }
   ],
   "source": [
    "a"
   ]
  },
  {
   "cell_type": "code",
   "execution_count": 45,
   "metadata": {},
   "outputs": [
    {
     "ename": "NonPositiveError",
     "evalue": "",
     "output_type": "error",
     "traceback": [
      "\u001b[0;31m---------------------------------------------------------------------------\u001b[0m",
      "\u001b[0;31mNonPositiveError\u001b[0m                          Traceback (most recent call last)",
      "\u001b[0;32m<ipython-input-45-187319b5feaf>\u001b[0m in \u001b[0;36m<module>\u001b[0;34m\u001b[0m\n\u001b[0;32m----> 1\u001b[0;31m \u001b[0ma\u001b[0m\u001b[0;34m.\u001b[0m\u001b[0mappend\u001b[0m\u001b[0;34m(\u001b[0m\u001b[0;34m-\u001b[0m\u001b[0;36m5\u001b[0m\u001b[0;34m)\u001b[0m\u001b[0;34m\u001b[0m\u001b[0;34m\u001b[0m\u001b[0m\n\u001b[0m",
      "\u001b[0;32m<ipython-input-40-116f7e315701>\u001b[0m in \u001b[0;36mappend\u001b[0;34m(self, x)\u001b[0m\n\u001b[1;32m      8\u001b[0m             \u001b[0marg\u001b[0m \u001b[0;34m=\u001b[0m \u001b[0msuper\u001b[0m\u001b[0;34m(\u001b[0m\u001b[0mPositiveList\u001b[0m\u001b[0;34m,\u001b[0m\u001b[0mself\u001b[0m\u001b[0;34m)\u001b[0m\u001b[0;34m.\u001b[0m\u001b[0mappend\u001b[0m\u001b[0;34m(\u001b[0m\u001b[0mx\u001b[0m\u001b[0;34m)\u001b[0m\u001b[0;34m\u001b[0m\u001b[0;34m\u001b[0m\u001b[0m\n\u001b[1;32m      9\u001b[0m         \u001b[0;32melse\u001b[0m\u001b[0;34m:\u001b[0m\u001b[0;34m\u001b[0m\u001b[0;34m\u001b[0m\u001b[0m\n\u001b[0;32m---> 10\u001b[0;31m             \u001b[0;32mraise\u001b[0m \u001b[0mNonPositiveError\u001b[0m\u001b[0;34m(\u001b[0m\u001b[0;34m)\u001b[0m\u001b[0;34m\u001b[0m\u001b[0;34m\u001b[0m\u001b[0m\n\u001b[0m\u001b[1;32m     11\u001b[0m \u001b[0;34m\u001b[0m\u001b[0m\n\u001b[1;32m     12\u001b[0m \u001b[0;34m\u001b[0m\u001b[0m\n",
      "\u001b[0;31mNonPositiveError\u001b[0m: "
     ]
    }
   ],
   "source": [
    "a.append(-5)"
   ]
  },
  {
   "cell_type": "code",
   "execution_count": null,
   "metadata": {},
   "outputs": [],
   "source": []
  }
 ],
 "metadata": {
  "kernelspec": {
   "display_name": "Python 3",
   "language": "python",
   "name": "python3"
  }
 },
 "nbformat": 4,
 "nbformat_minor": 2
}
