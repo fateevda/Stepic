{
 "cells": [
  {
   "cell_type": "code",
   "execution_count": 18,
   "metadata": {},
   "outputs": [],
   "source": [
    "f = open('test3.txt','r')"
   ]
  },
  {
   "cell_type": "code",
   "execution_count": 19,
   "metadata": {},
   "outputs": [
    {
     "name": "stdout",
     "output_type": "stream",
     "text": [
      "'Hello'\n",
      "'world'\n"
     ]
    }
   ],
   "source": [
    "for line in f:\n",
    "    line = line.rstrip()\n",
    "    print(repr(line))\n",
    "f.close()"
   ]
  },
  {
   "cell_type": "code",
   "execution_count": 21,
   "metadata": {},
   "outputs": [],
   "source": [
    "f = open('test3.txt','w')\n",
    "lines = ['line1','line2']\n",
    "contents = '\\n'.join(lines)\n",
    "f.write(contents)\n",
    "f.close()"
   ]
  },
  {
   "cell_type": "code",
   "execution_count": 23,
   "metadata": {},
   "outputs": [
    {
     "name": "stdout",
     "output_type": "stream",
     "text": [
      "'line1'\n",
      "'line2'\n",
      "'9XB8nsIqRfYeswC'\n",
      "'4sEhUGLEZti9BiN'\n",
      "'bDjmT0NcIW8nzhb'\n",
      "'ZN6QQoMOO1ZQLUY'\n",
      "'RVrF2qdMpoq6Lib'\n",
      "'tnnX7HH3vJ9Hiji'\n",
      "'C24TJYYkqekv40l'\n",
      "'B2ropluPaMAitzE'\n",
      "'DRezNUVnr2zC0CP'\n",
      "'XCNmpTvvZb1n3mX'\n"
     ]
    }
   ],
   "source": [
    "with open('test3.txt','r') as f, open('passwords.txt','r') as g:\n",
    "    for line in f:\n",
    "        line = line.rstrip()\n",
    "        print(repr(line))\n",
    "    for line in g:\n",
    "        line = line.rstrip()\n",
    "        print(repr(line))\n",
    "   "
   ]
  },
  {
   "cell_type": "code",
   "execution_count": null,
   "metadata": {},
   "outputs": [],
   "source": []
  },
  {
   "cell_type": "code",
   "execution_count": 33,
   "metadata": {},
   "outputs": [],
   "source": [
    "with open('dataset.txt','r') as f, open('desicion_dataset.txt','w') as g:\n",
    "    a = []\n",
    "    for line in f:\n",
    "        line = line.rstrip()\n",
    "        a.append(line)\n",
    "    b = []\n",
    "    for i in range(len(a)):\n",
    "        b.append(a[len(a)-i-1])\n",
    "    contents = '\\n'.join(b)\n",
    "    g.write(contents)\n",
    "   "
   ]
  },
  {
   "cell_type": "code",
   "execution_count": null,
   "metadata": {},
   "outputs": [],
   "source": []
  },
  {
   "cell_type": "code",
   "execution_count": null,
   "metadata": {},
   "outputs": [],
   "source": []
  },
  {
   "cell_type": "code",
   "execution_count": 34,
   "metadata": {},
   "outputs": [],
   "source": [
    "import os\n",
    "import os.path"
   ]
  },
  {
   "cell_type": "code",
   "execution_count": 60,
   "metadata": {},
   "outputs": [
    {
     "data": {
      "text/plain": [
       "['sample.py', 'a', 'b', 'c', 'not_py.txt']"
      ]
     },
     "execution_count": 60,
     "metadata": {},
     "output_type": "execute_result"
    }
   ],
   "source": [
    "path = ['sample']\n",
    "os.listdir(path[0])"
   ]
  },
  {
   "cell_type": "code",
   "execution_count": 42,
   "metadata": {},
   "outputs": [
    {
     "name": "stdout",
     "output_type": "stream",
     "text": [
      "/home/fateevda/Документы/степик/Python: основы и применение\n"
     ]
    }
   ],
   "source": [
    "print(os.getcwd())"
   ]
  },
  {
   "cell_type": "code",
   "execution_count": 98,
   "metadata": {},
   "outputs": [],
   "source": [
    "#цикл по всем путям\n",
    "path = ['main']\n",
    "for pathes in path:\n",
    "    for files in os.listdir(pathes):\n",
    "        if (os.path.isdir(pathes+'/'+files)):\n",
    "            path.append(pathes+'/'+files)"
   ]
  },
  {
   "cell_type": "code",
   "execution_count": 101,
   "metadata": {},
   "outputs": [],
   "source": [
    "itog_path = []\n",
    "for i in range(len(path)):\n",
    "    for slovo in os.listdir(path[i]):\n",
    "        if ('.py' in slovo):\n",
    "            if (path[i] not in itog_path):\n",
    "                itog_path.append(path[i])"
   ]
  },
  {
   "cell_type": "code",
   "execution_count": 102,
   "metadata": {},
   "outputs": [],
   "source": [
    "itog_path.sort()"
   ]
  },
  {
   "cell_type": "code",
   "execution_count": 103,
   "metadata": {},
   "outputs": [],
   "source": [
    "with open('desicion_path.txt','w') as h:\n",
    "    contents = '\\n'.join(itog_path)\n",
    "    h.write(contents)"
   ]
  },
  {
   "cell_type": "code",
   "execution_count": null,
   "metadata": {},
   "outputs": [],
   "source": []
  }
 ],
 "metadata": {
  "kernelspec": {
   "display_name": "Python 3",
   "language": "python",
   "name": "python3"
  },
  "language_info": {
   "codemirror_mode": {
    "name": "ipython",
    "version": 3
   },
   "file_extension": ".py",
   "mimetype": "text/x-python",
   "name": "python",
   "nbconvert_exporter": "python",
   "pygments_lexer": "ipython3",
   "version": "3.7.1"
  }
 },
 "nbformat": 4,
 "nbformat_minor": 2
}
